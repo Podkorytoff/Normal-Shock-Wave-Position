{
 "cells": [
  {
   "cell_type": "code",
   "execution_count": 154,
   "metadata": {},
   "outputs": [],
   "source": [
    "import numpy as np\n",
    "import pandas as pd\n",
    "from matplotlib import pyplot as plt\n",
    "from scipy.optimize import fsolve"
   ]
  },
  {
   "cell_type": "code",
   "execution_count": 155,
   "metadata": {},
   "outputs": [],
   "source": [
    "gamma = 1.2 #Valor de gama\n",
    "p_e = np.array([101, 89.9, 79.5, 70.1, 61.7, 54.1, 47.2, 41.1, 35.7, 30.8]) #Valores retirados da ISA\n",
    "p_crit = 856.7 #Pressão crítica\n",
    "me_2 = -1/(gamma-1) + (1/((gamma-1)**2) + (2/(gamma-1))*((2/(gamma+1))**((gamma+1)/(gamma-1)))*((p_crit/(p_e*37))**2))**(1/2) #Fórmula do número de mach na saída do bocal\n",
    "p0_pe_ratio = (1 + ((gamma-1)/2)*me_2)**(gamma/(gamma-1)) \n",
    "p02_p01_ratio = p0_pe_ratio*p_e/p_crit\n"
   ]
  },
  {
   "cell_type": "code",
   "execution_count": 156,
   "metadata": {},
   "outputs": [],
   "source": [
    "p_e = p_e.tolist()\n",
    "p02_p01_ratio = p02_p01_ratio.tolist()\n",
    "m_res = np.zeros(len(p_e))\n",
    "#Resolvendo a equação transcendental utilizando o fsolve\n",
    "for i in range(len(p_e)):\n",
    "    m_res[i] = fsolve(lambda m_1: - p02_p01_ratio[i] + (((gamma+1)*(m_1)**2)/(2+(gamma-1)*(m_1)**2))**(gamma/(gamma-1))*(((gamma+1)/(2*gamma*(m_1**2)-(gamma-1)))**(1/(gamma-1))),4.2)"
   ]
  },
  {
   "cell_type": "code",
   "execution_count": 157,
   "metadata": {},
   "outputs": [
    {
     "name": "stdout",
     "output_type": "stream",
     "text": [
      "[3.50364094 3.58839145 3.67685413 3.76623664 3.85556821 3.94593815\n",
      " 4.03762787 4.12788812 4.21615654 4.30362839]\n"
     ]
    }
   ],
   "source": [
    "print(m_res) #Conferindo os valores de m_1 obtidos\n",
    "m_res = np.array(m_res) #Transformando a lista em ndarray para realizar outras operações"
   ]
  },
  {
   "cell_type": "code",
   "execution_count": 158,
   "metadata": {},
   "outputs": [],
   "source": [
    "a_at_ratio = np.sqrt((1/m_res**2)*((2/(gamma+1))*(1+((gamma-\n",
    "1)/2)*m_res**2))**((gamma+1)/(gamma-1))) #Fórmula do Nozzle Area Ratio"
   ]
  },
  {
   "cell_type": "code",
   "execution_count": 159,
   "metadata": {},
   "outputs": [
    {
     "name": "stdout",
     "output_type": "stream",
     "text": [
      "[13.83157561 15.63466806 17.77025039 20.2250939  23.01587109 26.22701907\n",
      " 29.9358813  34.08799192 38.69054134 43.84598042]\n",
      "[0 1 2 3 4 5 6 7 8 9]\n"
     ]
    }
   ],
   "source": [
    "print(a_at_ratio)\n",
    "heights = np.arange(0, len(p_e)) #Criando a lista com as altitudes\n",
    "print(heights)"
   ]
  },
  {
   "cell_type": "code",
   "execution_count": 160,
   "metadata": {},
   "outputs": [
    {
     "data": {
      "image/png": "[encoded data removed]",
      "text/plain": [
       "<Figure size 432x288 with 1 Axes>"
      ]
     },
     "metadata": {
      "needs_background": "light"
     },
     "output_type": "display_data"
    }
   ],
   "source": [
    "#Plotando o gráfico heights vs nozzle area ratio\n",
    "plt.axvline(x=37, color=\"black\",linestyle=\"--\",linewidth=1.5)\n",
    "plt.xlabel('Nozzle ratio A/A*')\n",
    "plt.ylabel('Height [km]')\n",
    "plt.plot(a_at_ratio, heights, marker = '+')\n",
    "plt.xlim(15, 40)\n",
    "plt.ylim(0,10)\n",
    "plt.grid(True)"
   ]
  }
 ],
 "metadata": {
  "interpreter": {
   "hash": "e8746cd1b60ecba0460fd693d3a20ebf8f0b27fede5821555e8441e589fc3911"
  },
  "kernelspec": {
   "display_name": "Python 3.8.5 32-bit",
   "language": "python",
   "name": "python3"
  },
  "language_info": {
   "codemirror_mode": {
    "name": "ipython",
    "version": 3
   },
   "file_extension": ".py",
   "mimetype": "text/x-python",
   "name": "python",
   "nbconvert_exporter": "python",
   "pygments_lexer": "ipython3",
   "version": "3.8.5"
  },
  "orig_nbformat": 4
 },
 "nbformat": 4,
 "nbformat_minor": 2
}
