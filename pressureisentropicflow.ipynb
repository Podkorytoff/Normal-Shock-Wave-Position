{
 "cells": [
  {
   "cell_type": "code",
   "execution_count": 7,
   "metadata": {},
   "outputs": [
    {
     "name": "stdout",
     "output_type": "stream",
     "text": [
      "Pressão em condições normais = [13.07953098]  kPa\n",
      "Pressão em condições com falha = [0.43600133]  kPa\n"
     ]
    }
   ],
   "source": [
    "#Determinando qual a pressão para um escoamento totalmente isentrópico através do bocal\n",
    "\n",
    "import numpy as np\n",
    "from scipy.optimize import fsolve\n",
    "\n",
    "gamma = 1.2\n",
    "\n",
    "pc = 25700 #em kPa\n",
    "pc_f = 856.7 #em kPa\n",
    "\n",
    "#solução para operação sob condições normais\n",
    "f2 = lambda p_e2: -1/37 + (((gamma + 1)/2)**(1/(gamma-1)))*((p_e2/pc)**(1/gamma))*((gamma+1)/(gamma-1))*((1-((p_e2/pc)**((gamma-1)/gamma))))**(1/2)\n",
    "\n",
    "sol_pe = fsolve(f2, 1)\n",
    "\n",
    "print(\"Pressão em condições normais =\", sol_pe, \" kPa\")\n",
    "\n",
    "#solução para operação com falha\n",
    "f3 = lambda p_e2f: -1/37 + (((gamma + 1)/2)**(1/(gamma-1)))*((p_e2f/pc_f)**(1/gamma))*((gamma+1)/(gamma-1))*((1-((p_e2f/pc_f)**((gamma-1)/gamma))))**(1/2)\n",
    "\n",
    "sol_pef = fsolve(f3, 1)\n",
    "\n",
    "print(\"Pressão em condições com falha =\", sol_pef, \" kPa\")"
   ]
  }
 ],
 "metadata": {
  "interpreter": {
   "hash": "e8746cd1b60ecba0460fd693d3a20ebf8f0b27fede5821555e8441e589fc3911"
  },
  "kernelspec": {
   "display_name": "Python 3.8.5 32-bit",
   "language": "python",
   "name": "python3"
  },
  "language_info": {
   "codemirror_mode": {
    "name": "ipython",
    "version": 3
   },
   "file_extension": ".py",
   "mimetype": "text/x-python",
   "name": "python",
   "nbconvert_exporter": "python",
   "pygments_lexer": "ipython3",
   "version": "3.8.5"
  },
  "orig_nbformat": 4
 },
 "nbformat": 4,
 "nbformat_minor": 2
}
